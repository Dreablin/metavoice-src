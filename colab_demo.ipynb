{
  "cells": [
    {
      "cell_type": "markdown",
      "metadata": {
        "id": "a9cEtqbte9MR"
      },
      "source": [
        "## Installation"
      ]
    },
    {
      "cell_type": "markdown",
      "metadata": {
        "id": "m9BqJvLfe9MR"
      },
      "source": [
        "### Clone the repository"
      ]
    },
    {
      "cell_type": "code",
      "execution_count": null,
      "metadata": {
        "vscode": {
          "languageId": "plaintext"
        },
        "id": "8gYJJzoYe9MS"
      },
      "outputs": [],
      "source": [
        "from google.colab import userdata\n",
        "token = userdata.get('github')\n",
        "!git clone -b colab_fix https://{token}@github.com/Dreablin/metavoice-tts.git\n",
        "%cd metavoice-tts"
      ]
    },
    {
      "cell_type": "markdown",
      "metadata": {
        "id": "edf7gZ_We9MT"
      },
      "source": [
        "### Install dependencies"
      ]
    },
    {
      "cell_type": "code",
      "execution_count": null,
      "metadata": {
        "vscode": {
          "languageId": "plaintext"
        },
        "id": "dcIcS0Qye9MT"
      },
      "outputs": [],
      "source": [
        "!sudo apt install pipx\n",
        "!pipx install poetry\n",
        "!pipx run poetry install && pipx run poetry run pip install torch==2.4.0 torchaudio==2.4.0\n",
        "!pipx run poetry env list | sed 's/ (Activated)//' > poetry_env.txt\n",
        "# NOTE: pip's dependency resolver will error & complain, ignore it!\n",
        "# its due to a temporary dependency issue, `tts.synthesise` will still work as intended!"
      ]
    },
    {
      "cell_type": "code",
      "execution_count": null,
      "metadata": {
        "vscode": {
          "languageId": "plaintext"
        },
        "id": "oAaLvsHMe9MU"
      },
      "outputs": [],
      "source": [
        "import sys, pathlib\n",
        "venv = pathlib.Path(\"poetry_env.txt\").read_text().strip(\"\\n\")\n",
        "sys.path.append(f\"/root/.cache/pypoetry/virtualenvs/{venv}/lib/python3.10/site-packages\")"
      ]
    },
    {
      "cell_type": "markdown",
      "metadata": {
        "id": "d-kXXCqCe9MU"
      },
      "source": [
        "## Inference"
      ]
    },
    {
      "cell_type": "code",
      "execution_count": null,
      "metadata": {
        "vscode": {
          "languageId": "plaintext"
        },
        "id": "L3xiRQcge9MU"
      },
      "outputs": [],
      "source": [
        "from IPython.display import Audio, display\n",
        "from fam.llm.fast_inference import TTS\n",
        "import os\n",
        "import re\n",
        "import subprocess\n",
        "import sys\n",
        "required_packages = ['soundfile', 'numpy']\n",
        "for package in required_packages:\n",
        "    try:\n",
        "        __import__(package)\n",
        "    except ImportError:\n",
        "        subprocess.check_call([sys.executable, \"-m\", \"pip\", \"install\", package])\n",
        "\n",
        "import soundfile as sf\n",
        "import numpy as np\n",
        "\n",
        "tts = TTS()"
      ]
    },
    {
      "cell_type": "code",
      "execution_count": null,
      "metadata": {
        "vscode": {
          "languageId": "plaintext"
        },
        "id": "6kFh99fge9MV"
      },
      "outputs": [],
      "source": [
        "# Path to the input file\n",
        "file_path = \"result.txt\"\n",
        "\n",
        "# Initialize list to store paths of generated audio files\n",
        "audio_paths = []\n",
        "\n",
        "# Process each line of the file\n",
        "with open(file_path, 'r', encoding='utf-8') as file:\n",
        "    for line in file:\n",
        "        # Strip whitespace and skip empty lines\n",
        "        line = line.strip()\n",
        "        if not line:\n",
        "            continue\n",
        "\n",
        "        # Skip lines longer than 140 characters\n",
        "        if len(line) > 140:\n",
        "            continue\n",
        "\n",
        "        # Determine speaker reference path and text\n",
        "        spk_ref_path = \"assets/man.mp3\"\n",
        "        text_to_speak = line\n",
        "\n",
        "        # Check for tags and adjust parameters\n",
        "        if \"<Man>\" in line and \"</Man>\" in line:\n",
        "            spk_ref_path = \"assets/man.mp3\"\n",
        "            text_to_speak = re.search(r'<Man>(.*?)</Man>', line).group(1).strip()\n",
        "        elif \"<Woman>\" in line and \"</Woman>\" in line:\n",
        "            spk_ref_path = \"assets/man.mp3\"\n",
        "            text_to_speak = re.search(r'<Woman>(.*?)</Woman>', line).group(1).strip()\n",
        "\n",
        "        # Remove any surrounding double quotes from the extracted text\n",
        "        text_to_speak = text_to_speak.strip('\"')\n",
        "\n",
        "        # Generate audio for the line using TTS\n",
        "        wav_file = tts.synthesise(text=text_to_speak, spk_ref_path=spk_ref_path)\n",
        "\n",
        "        # Store path of generated audio file\n",
        "        audio_paths.append(wav_file)\n",
        "\n",
        "# Combine all generated audio files into a single file 'result.wav'\n",
        "output_wav = \"result.wav\"\n",
        "\n",
        "# Load and concatenate all audio files\n",
        "audio_data = []\n",
        "samplerate = None  # Initialize samplerate for combined audio\n",
        "\n",
        "for audio_file in audio_paths:\n",
        "    data, sr = sf.read(audio_file)\n",
        "    audio_data.append(data)\n",
        "    if samplerate is None:\n",
        "        samplerate = sr  # Set samplerate from the first file\n",
        "\n",
        "# Concatenate all audio data\n",
        "combined_audio = np.concatenate(audio_data)\n",
        "\n",
        "# Write combined audio to the output wav file\n",
        "sf.write(output_wav, combined_audio, samplerate)\n",
        "\n",
        "print(f\"All audio has been combined into {output_wav}\")"
      ]
    }
  ],
  "metadata": {
    "accelerator": "GPU",
    "colab": {
      "gpuType": "T4",
      "provenance": []
    },
    "kernelspec": {
      "display_name": "Python 3",
      "name": "python3"
    },
    "language_info": {
      "name": "python"
    }
  },
  "nbformat": 4,
  "nbformat_minor": 0
}